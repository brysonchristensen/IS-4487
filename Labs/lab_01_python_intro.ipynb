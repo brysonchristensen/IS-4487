{
  "cells": [
    {
      "cell_type": "markdown",
      "metadata": {
        "id": "view-in-github",
        "colab_type": "text"
      },
      "source": [
        "<a href=\"https://colab.research.google.com/github/brysonchristensen/IS-4487/blob/main/Labs/lab_01_python_intro.ipynb\" target=\"_parent\"><img src=\"https://colab.research.google.com/assets/colab-badge.svg\" alt=\"Open In Colab\"/></a>"
      ]
    },
    {
      "cell_type": "markdown",
      "metadata": {
        "id": "xJxWWBkrp-JF"
      },
      "source": [
        "# IS 4487 Lab 1 - Python Intro\n",
        "\n",
        "## Outline\n",
        "\n",
        "- Create and format cells in a notebook\n",
        "- Create basic variables in Python\n",
        "\n",
        "<a href=\"https://colab.research.google.com/github/vandanara/UofUtah_IS4487/blob/main/Labs/lab_01_python_intro.ipynb\" target=\"_parent\"><img src=\"https://colab.research.google.com/assets/colab-badge.svg\" alt=\"Open In Colab\"/></a>\n",
        "\n",
        "If you have any questions about Colab, you can read more here:  https://research.google.com/colaboratory/faq.html"
      ]
    },
    {
      "cell_type": "markdown",
      "metadata": {
        "id": "w2W7BHQKOy9s"
      },
      "source": [
        "## Your Turn: Work with the Python Notebook\n",
        "\n",
        "➡️ Lab Task #1\n",
        "\n",
        "Add a mathematical formula to add 15 and 22 in the cell below"
      ]
    },
    {
      "cell_type": "code",
      "source": [
        "15 + 22"
      ],
      "metadata": {
        "colab": {
          "base_uri": "https://localhost:8080/"
        },
        "id": "s-LbluW4F8K1",
        "outputId": "8111b5bd-1c68-4467-fc51-fc6d4b32897b"
      },
      "execution_count": 3,
      "outputs": [
        {
          "output_type": "execute_result",
          "data": {
            "text/plain": [
              "37"
            ]
          },
          "metadata": {},
          "execution_count": 3
        }
      ]
    },
    {
      "cell_type": "markdown",
      "source": [],
      "metadata": {
        "id": "jaqEmYF2F73B"
      }
    },
    {
      "cell_type": "code",
      "execution_count": 1,
      "metadata": {
        "id": "q9D9aAk_p-JN",
        "colab": {
          "base_uri": "https://localhost:8080/"
        },
        "outputId": "814379f0-6c4a-4019-be2d-9e8f15edc156"
      },
      "outputs": [
        {
          "output_type": "execute_result",
          "data": {
            "text/plain": [
              "37"
            ]
          },
          "metadata": {},
          "execution_count": 1
        }
      ],
      "source": [
        "15 + 22"
      ]
    },
    {
      "cell_type": "markdown",
      "metadata": {
        "id": "i4cBU-4fOy9u"
      },
      "source": [
        "➡️ Lab Task #2\n",
        "\n",
        "Add a Markdown cell below this cell and write:\n",
        "\n",
        "- A heading.\n",
        "- Your major\n",
        "- Your favorite food"
      ]
    },
    {
      "cell_type": "markdown",
      "source": [
        "# Hi this is Bryson.\n",
        "I am double majoring in ECON and FINAN.\n",
        "\n",
        "My favorite food is Mexican food."
      ],
      "metadata": {
        "id": "vD2OdjfzGcU5"
      }
    },
    {
      "cell_type": "markdown",
      "metadata": {
        "id": "bnKaURSPOy9u"
      },
      "source": [
        "➡️ Lab Task #3\n",
        "\n",
        "Create a variable called \"x\" with the value \"Hello World\".  Print the value of the variable"
      ]
    },
    {
      "cell_type": "code",
      "execution_count": 5,
      "metadata": {
        "id": "k7Nib8DeOy9v",
        "colab": {
          "base_uri": "https://localhost:8080/"
        },
        "outputId": "fd0e692f-fdc8-4821-fcab-e65779ae88f7"
      },
      "outputs": [
        {
          "output_type": "stream",
          "name": "stdout",
          "text": [
            "Hello World\n"
          ]
        }
      ],
      "source": [
        "x = \"Hello World\"\n",
        "print(x)"
      ]
    },
    {
      "cell_type": "markdown",
      "metadata": {
        "id": "YJcstijjOy9v"
      },
      "source": [
        "## Export Your Notebook to Submit in Canvas\n",
        "- In the top menu, go to File > Download, click \"Download .ipynb\". Save the file locally with the name *lab_01_LastnameFirstname.ipynb*\n",
        "- In the left side menu, click the Folder icon, then click the \"Upload to Session Storage\" icon, and select the above saved file to add it to Colab's temporary Virtual Machine (VM) that allows us to work on our files in Colab.\n",
        "- Convert the file to HTML using the code below.  You may be asked to approve access to the files\n",
        "- Find the output file under Files in the left side menu\n",
        "- Download your HTML file (*lab_01_LastnameFirstname.html*) as your completed lab, to be uploaded to Canvas"
      ]
    },
    {
      "cell_type": "code",
      "execution_count": 6,
      "metadata": {
        "id": "7rcGsu1YOy9w",
        "colab": {
          "base_uri": "https://localhost:8080/"
        },
        "outputId": "60da4db7-1249-45ea-d8f3-cea4750b0d26"
      },
      "outputs": [
        {
          "output_type": "stream",
          "name": "stdout",
          "text": [
            "[NbConvertApp] Converting notebook lab_01_ChristensenBryson.ipynb to html\n",
            "[NbConvertApp] Writing 278829 bytes to lab_01_ChristensenBryson.html\n"
          ]
        }
      ],
      "source": [
        "!jupyter nbconvert --to html \"lab_01_ChristensenBryson.ipynb\""
      ]
    },
    {
      "cell_type": "markdown",
      "metadata": {
        "id": "9htoUSFdOy9w"
      },
      "source": [
        "## Submit your assignment\n",
        "\n",
        "- Make sure that all of your output is shown.  If you get the “unable to render code block” error, try refreshing the cache or downloading raw data to manually upload into Colab as a workaround.\n",
        "- Upload your HTML file to Canvas\n",
        "- Optionally, save your file in your own GitHub account for future use\n"
      ]
    }
  ],
  "metadata": {
    "colab": {
      "provenance": [],
      "include_colab_link": true
    },
    "kernelspec": {
      "display_name": "Python 3",
      "name": "python3"
    },
    "language_info": {
      "name": "python"
    }
  },
  "nbformat": 4,
  "nbformat_minor": 0
}